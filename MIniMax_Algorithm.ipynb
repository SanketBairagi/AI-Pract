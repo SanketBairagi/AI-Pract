{
  "nbformat": 4,
  "nbformat_minor": 0,
  "metadata": {
    "colab": {
      "provenance": []
    },
    "kernelspec": {
      "name": "python3",
      "display_name": "Python 3"
    },
    "language_info": {
      "name": "python"
    }
  },
  "cells": [
    {
      "cell_type": "code",
      "source": [
        "\n",
        "import math\n",
        " \n",
        "def minimax (curDepth, nodeIndex,\n",
        "             maxTurn, scores,\n",
        "             targetDepth):\n",
        " \n",
        "    if (curDepth == targetDepth):\n",
        "        return scores[nodeIndex]\n",
        "     \n",
        "    if (maxTurn):\n",
        "        return max(minimax(curDepth + 1, nodeIndex * 2,\n",
        "                    False, scores, targetDepth),\n",
        "                   minimax(curDepth + 1, nodeIndex * 2 + 1,\n",
        "                    False, scores, targetDepth))\n",
        "     \n",
        "    else:\n",
        "        return min(minimax(curDepth + 1, nodeIndex * 2,\n",
        "                     True, scores, targetDepth),\n",
        "                   minimax(curDepth + 1, nodeIndex * 2 + 1,\n",
        "                     True, scores, targetDepth))\n",
        "\n",
        "scores = [-1,4,2,6,-3,-5,0,7]\n",
        " \n",
        "treeDepth = math.log(len(scores), 2)\n",
        " \n",
        "print(\"The optimal value is : \", end = \"\")\n",
        "print(minimax(0, 0, True, scores, treeDepth))"
      ],
      "metadata": {
        "id": "5j1PoFPUDQzZ",
        "colab": {
          "base_uri": "https://localhost:8080/"
        },
        "outputId": "d9c548e9-ed1d-402c-89d1-d8ac30cad670"
      },
      "execution_count": 3,
      "outputs": [
        {
          "output_type": "stream",
          "name": "stdout",
          "text": [
            "The optimal value is : 4\n"
          ]
        }
      ]
    },
    {
      "cell_type": "code",
      "source": [],
      "metadata": {
        "id": "OZxmxqU6PBmV"
      },
      "execution_count": null,
      "outputs": []
    }
  ]
}