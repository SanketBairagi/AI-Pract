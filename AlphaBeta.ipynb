{
  "nbformat": 4,
  "nbformat_minor": 0,
  "metadata": {
    "colab": {
      "provenance": [],
      "authorship_tag": "ABX9TyMTEETyBvTS9n5csf5/duc9",
      "include_colab_link": true
    },
    "kernelspec": {
      "name": "python3",
      "display_name": "Python 3"
    },
    "language_info": {
      "name": "python"
    }
  },
  "cells": [
    {
      "cell_type": "markdown",
      "metadata": {
        "id": "view-in-github",
        "colab_type": "text"
      },
      "source": [
        "<a href=\"https://colab.research.google.com/github/SanketBairagi/AI-Pract/blob/main/AlphaBeta.ipynb\" target=\"_parent\"><img src=\"https://colab.research.google.com/assets/colab-badge.svg\" alt=\"Open In Colab\"/></a>"
      ]
    },
    {
      "cell_type": "code",
      "execution_count": 1,
      "metadata": {
        "colab": {
          "base_uri": "https://localhost:8080/"
        },
        "id": "tV2kZIgTSAS3",
        "outputId": "450fed47-a7a9-43d4-d2c1-878beae05bcf"
      },
      "outputs": [
        {
          "output_type": "stream",
          "name": "stdout",
          "text": [
            "The optimal value is : 5\n"
          ]
        }
      ],
      "source": [
        "\n",
        "MAX, MIN = 1000, -1000\n",
        "\n",
        "\n",
        "def minimax(depth, nodeIndex, maximizingPlayer,\n",
        "\t\t\tvalues, alpha, beta):\n",
        "\n",
        "\t\n",
        "\tif depth == 3:\n",
        "\t\treturn values[nodeIndex]\n",
        "\n",
        "\tif maximizingPlayer:\n",
        "\t\n",
        "\t\tbest = MIN\n",
        "\n",
        "\n",
        "\t\tfor i in range(0, 2):\n",
        "\t\t\t\n",
        "\t\t\tval = minimax(depth + 1, nodeIndex * 2 + i,\n",
        "\t\t\t\t\t\tFalse, values, alpha, beta)\n",
        "\t\t\tbest = max(best, val)\n",
        "\t\t\talpha = max(alpha, best)\n",
        "\n",
        "\t\t\tif beta <= alpha:\n",
        "\t\t\t\tbreak\n",
        "\t\t\n",
        "\t\treturn best\n",
        "\t\n",
        "\telse:\n",
        "\t\tbest = MAX\n",
        "\n",
        "\n",
        "\t\tfor i in range(0, 2):\n",
        "\t\t\n",
        "\t\t\tval = minimax(depth + 1, nodeIndex * 2 + i,\n",
        "\t\t\t\t\t\t\tTrue, values, alpha, beta)\n",
        "\t\t\tbest = min(best, val)\n",
        "\t\t\tbeta = min(beta, best)\n",
        "\n",
        "\n",
        "\t\t\tif beta <= alpha:\n",
        "\t\t\t\tbreak\n",
        "\t\t\n",
        "\t\treturn best\n",
        "\t\n",
        "\n",
        "if __name__ == \"__main__\":\n",
        "\n",
        "\tvalues = [3, 5, 6, 9, 1, 2, 0, -1]\n",
        "\tprint(\"The optimal value is :\", minimax(0, 0, True, values, MIN, MAX))\n",
        "\n"
      ]
    },
    {
      "cell_type": "code",
      "source": [],
      "metadata": {
        "id": "97xMuLG_SEOx"
      },
      "execution_count": null,
      "outputs": []
    }
  ]
}