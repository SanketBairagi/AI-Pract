{
  "cells": [
    {
      "cell_type": "markdown",
      "metadata": {
        "id": "view-in-github",
        "colab_type": "text"
      },
      "source": [
        "<a href=\"https://colab.research.google.com/github/SanketBairagi/AI-Pract/blob/main/bfs.ipynb\" target=\"_parent\"><img src=\"https://colab.research.google.com/assets/colab-badge.svg\" alt=\"Open In Colab\"/></a>"
      ]
    },
    {
      "cell_type": "code",
      "execution_count": null,
      "id": "e1807bd3",
      "metadata": {
        "id": "e1807bd3",
        "outputId": "bfa2aee6-3ae0-44ac-898f-08200ee60b5c",
        "colab": {
          "base_uri": "https://localhost:8080/"
        }
      },
      "outputs": [
        {
          "output_type": "stream",
          "name": "stdout",
          "text": [
            "Following is the Breadth-First Search\n",
            "A B C D E F "
          ]
        }
      ],
      "source": [
        "graph = {\n",
        "  'A' : ['B','C'],\n",
        "  'B' : ['D', 'E'],\n",
        "  'C' : ['F'],\n",
        "  'D' : [],\n",
        "  'E' : [],\n",
        "  'F' : []   }\n",
        "\n",
        "visited = [] \n",
        "queue = []     \n",
        "\n",
        "def bfs(graph, node):\n",
        "  visited.append(node)\n",
        "  queue.append(node)\n",
        "\n",
        "  while queue:  \n",
        "    m = queue.pop(0) \n",
        "    print (m ,end =\" \") \n",
        "\n",
        "    for childs in graph[m]:\n",
        "      if childs not in visited:\n",
        "        visited.append(childs)\n",
        "        queue.append(childs)\n",
        "\n",
        "print(\"Following is the Breadth-First Search\")\n",
        "bfs(graph, 'A')    # function calling"
      ]
    }
  ],
  "metadata": {
    "kernelspec": {
      "display_name": "Python 3 (ipykernel)",
      "language": "python",
      "name": "python3"
    },
    "language_info": {
      "codemirror_mode": {
        "name": "ipython",
        "version": 3
      },
      "file_extension": ".py",
      "mimetype": "text/x-python",
      "name": "python",
      "nbconvert_exporter": "python",
      "pygments_lexer": "ipython3",
      "version": "3.9.16"
    },
    "colab": {
      "provenance": [],
      "include_colab_link": true
    }
  },
  "nbformat": 4,
  "nbformat_minor": 5
}